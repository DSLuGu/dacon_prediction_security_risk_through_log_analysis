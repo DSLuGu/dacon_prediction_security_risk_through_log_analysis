{
 "cells": [
  {
   "cell_type": "code",
   "execution_count": 1,
   "metadata": {},
   "outputs": [],
   "source": [
    "import os\n",
    "import sys\n",
    "import csv\n",
    "\n",
    "import numpy as np\n",
    "import pandas as pd\n",
    "\n",
    "import matplotlib.pyplot as plt"
   ]
  },
  {
   "cell_type": "code",
   "execution_count": 2,
   "metadata": {},
   "outputs": [
    {
     "data": {
      "text/plain": [
       "'/Users/lugu/Documents/git-repositories/ds.lminho248@gmail.com/dacon_prediction_security_risk_through_log_analysis'"
      ]
     },
     "execution_count": 2,
     "metadata": {},
     "output_type": "execute_result"
    }
   ],
   "source": [
    "CUR_DIR = os.getcwd()\n",
    "CUR_DIR"
   ]
  },
  {
   "cell_type": "code",
   "execution_count": 3,
   "metadata": {},
   "outputs": [],
   "source": [
    "def load_data(fn, dtypes=None, delimiter=','):\n",
    "    \n",
    "    return pd.read_csv(fn)"
   ]
  },
  {
   "cell_type": "code",
   "execution_count": 4,
   "metadata": {},
   "outputs": [
    {
     "name": "stdout",
     "output_type": "stream",
     "text": [
      "Length of TrainSet : 472972\n",
      "Length of TestSet : 1418916\n",
      "Length of ValidSet : 3\n"
     ]
    }
   ],
   "source": [
    "trainPath = os.path.join(CUR_DIR, 'data', 'train.csv')\n",
    "validPath = os.path.join(CUR_DIR, 'data', 'validation_sample.csv')\n",
    "testPath = os.path.join(CUR_DIR, 'data', 'test.csv')\n",
    "\n",
    "trainSet = load_data(trainPath)\n",
    "validSet = load_data(validPath)\n",
    "testSet = load_data(testPath)\n",
    "\n",
    "print(\"Length of TrainSet : %d\" % len(trainSet))\n",
    "print(\"Length of TestSet : %d\" % len(testSet))\n",
    "print(\"Length of ValidSet : %d\" % len(validSet))"
   ]
  },
  {
   "cell_type": "code",
   "execution_count": 5,
   "metadata": {},
   "outputs": [
    {
     "data": {
      "text/plain": [
       "<AxesSubplot:>"
      ]
     },
     "execution_count": 5,
     "metadata": {},
     "output_type": "execute_result"
    },
    {
     "data": {
      "image/png": "[encoded data removed]",
      "text/plain": [
       "<Figure size 432x288 with 1 Axes>"
      ]
     },
     "metadata": {
      "needs_background": "light"
     },
     "output_type": "display_data"
    }
   ],
   "source": [
    "trainSet['full_log'].str.split(' ').str.len().hist(bins=50)"
   ]
  },
  {
   "cell_type": "code",
   "execution_count": 6,
   "metadata": {},
   "outputs": [
    {
     "data": {
      "text/plain": [
       "0    334065\n",
       "1    132517\n",
       "3      4141\n",
       "5      2219\n",
       "2        12\n",
       "4        10\n",
       "6         8\n",
       "Name: level, dtype: int64"
      ]
     },
     "execution_count": 6,
     "metadata": {},
     "output_type": "execute_result"
    }
   ],
   "source": [
    "trainSet.level.value_counts()"
   ]
  },
  {
   "cell_type": "code",
   "execution_count": null,
   "metadata": {},
   "outputs": [],
   "source": []
  }
 ],
 "metadata": {
  "interpreter": {
   "hash": "cd2f50d5023fbaee5cee3934a50076c7dc577ace622824f188fe916362ecb85e"
  },
  "kernelspec": {
   "display_name": "Python 3.8.0 ('.venv': venv)",
   "language": "python",
   "name": "python3"
  },
  "language_info": {
   "codemirror_mode": {
    "name": "ipython",
    "version": 3
   },
   "file_extension": ".py",
   "mimetype": "text/x-python",
   "name": "python",
   "nbconvert_exporter": "python",
   "pygments_lexer": "ipython3",
   "version": "3.8.0"
  },
  "orig_nbformat": 4
 },
 "nbformat": 4,
 "nbformat_minor": 2
}
